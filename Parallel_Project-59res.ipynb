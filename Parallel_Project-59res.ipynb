{
  "nbformat": 4,
  "nbformat_minor": 0,
  "metadata": {
    "colab": {
      "name": "ragaa Parallel Project.ipynb",
      "provenance": [],
      "collapsed_sections": [],
      "toc_visible": true,
      "include_colab_link": true
    },
    "kernelspec": {
      "name": "python3",
      "display_name": "Python 3"
    },
    "language_info": {
      "name": "python"
    },
    "accelerator": "GPU"
  },
  "cells": [
    {
      "cell_type": "markdown",
      "metadata": {
        "id": "view-in-github",
        "colab_type": "text"
      },
      "source": [
        "<a href=\"https://colab.research.google.com/github/302b46/Parallel-Programming-Project/blob/main/Parallel_Project-59res.ipynb\" target=\"_parent\"><img src=\"https://colab.research.google.com/assets/colab-badge.svg\" alt=\"Open In Colab\"/></a>"
      ]
    },
    {
      "cell_type": "code",
      "source": [
        "# example of timing the training of a random forest model\n",
        "from time import time\n",
        "from sklearn.datasets import make_classification\n",
        "from sklearn.ensemble import RandomForestClassifier\n",
        "from matplotlib import pyplot\n"
      ],
      "metadata": {
        "id": "UDaZyIBjYLz8"
      },
      "execution_count": 7,
      "outputs": []
    },
    {
      "cell_type": "code",
      "source": [
        "# define dataset\n",
        "X, y = make_classification(n_samples=30000, n_features=20, n_informative=15, n_redundant=5, random_state=3)\n",
        "results = list()\n",
        "# compare timing for number of cores\n",
        "n_cores = [1, 4, -1] #if n_jobs=-1 it means that we use all available cores\n",
        "for n in n_cores:\n",
        "\t# capture current time\n",
        "\tstart = time()\n",
        "\t# define the model\n",
        "\tmodel = RandomForestClassifier(n_estimators=500, n_jobs=n) #random forest model with 500 trees\n",
        "\t# fit the model\n",
        "\tmodel.fit(X, y)\n",
        "\t# capture current time\n",
        "\tend = time()\n",
        "\t# store execution time\n",
        "\tresult = end - start\n",
        "\tprint('>cores=%d: %.3f seconds' % (n, result))\n",
        "\tresults.append(result)\n",
        "pyplot.plot(n_cores, results)\n",
        "pyplot.show()"
      ],
      "metadata": {
        "colab": {
          "base_uri": "https://localhost:8080/",
          "height": 321
        },
        "id": "sLRnEZMi2Nig",
        "outputId": "630ab276-e048-4889-d5c4-472dc585f7eb"
      },
      "execution_count": 8,
      "outputs": [
        {
          "output_type": "stream",
          "name": "stdout",
          "text": [
            ">cores=1: 59.401 seconds\n",
            ">cores=4: 40.812 seconds\n",
            ">cores=-1: 41.867 seconds\n"
          ]
        },
        {
          "output_type": "display_data",
          "data": {
            "text/plain": [
              "<Figure size 432x288 with 1 Axes>"
            ],
            "image/png": "[encoded data removed]"
          },
          "metadata": {
            "needs_background": "light"
          }
        }
      ]
    },
    {
      "cell_type": "code",
      "source": [
        "# compare execution speed for model evaluation vs number of cpu cores\n",
        "from sklearn.model_selection import cross_val_score\n",
        "from sklearn.model_selection import RepeatedStratifiedKFold\n",
        "# define dataset\n",
        "X, y = make_classification(n_samples=10000, n_features=20, n_informative=15, n_redundant=5, random_state=3)\n",
        "results = list()\n",
        "# compare timing for number of cores\n",
        "n_cores = [1, 4, -1]\n",
        "for n in n_cores:\n",
        "\t# define the model\n",
        "\tmodel = RandomForestClassifier(n_estimators=100, n_jobs=1)\n",
        "\t# define the evaluation procedure\n",
        "  # cross-val is a resampling procedure used to evaluate machine learning models on a limited data sample\n",
        "  # we will evaluate the model using 10-fold cross-val with three repeats\n",
        "\tcv = RepeatedStratifiedKFold(n_splits=10, n_repeats=3, random_state=1)\n",
        "\t# record the current time\n",
        "\tstart = time()\n",
        "\t# evaluate the model\n",
        "\tn_scores = cross_val_score(model, X, y, scoring='accuracy', cv=cv, n_jobs=n)\n",
        "\t# record the current time\n",
        "\tend = time()\n",
        "\t# store execution time\n",
        "\tresult = end - start\n",
        "\tprint('>cores=%d: %.3f seconds' % (n, result))\n",
        "\tresults.append(result)\n",
        "pyplot.plot(n_cores, results)\n",
        "pyplot.show()"
      ],
      "metadata": {
        "colab": {
          "base_uri": "https://localhost:8080/",
          "height": 320
        },
        "id": "VOeRGK-vDB87",
        "outputId": "09aa698b-4ddd-482e-b7ad-96739dfa5cf5"
      },
      "execution_count": 6,
      "outputs": [
        {
          "output_type": "stream",
          "name": "stdout",
          "text": [
            ">cores=1: 91.398 seconds\n",
            ">cores=4: 64.010 seconds\n",
            ">cores=-1: 61.984 seconds\n"
          ]
        },
        {
          "output_type": "display_data",
          "data": {
            "text/plain": [
              "<Figure size 432x288 with 1 Axes>"
            ],
            "image/png": "[encoded data removed]"
          },
          "metadata": {
            "needs_background": "light"
          }
        }
      ]
    }
  ]
}