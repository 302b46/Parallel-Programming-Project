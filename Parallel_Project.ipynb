{
  "nbformat": 4,
  "nbformat_minor": 0,
  "metadata": {
    "colab": {
      "name": "Parallel Project.ipynb",
      "provenance": [],
      "collapsed_sections": [],
      "authorship_tag": "ABX9TyP4CqMJEpFLCzWiC8QcS02s",
      "include_colab_link": true
    },
    "kernelspec": {
      "name": "python3",
      "display_name": "Python 3"
    },
    "language_info": {
      "name": "python"
    }
  },
  "cells": [
    {
      "cell_type": "markdown",
      "metadata": {
        "id": "view-in-github",
        "colab_type": "text"
      },
      "source": [
        "<a href=\"https://colab.research.google.com/github/302b46/Parallel-Programming-Project/blob/main/Parallel_Project.ipynb\" target=\"_parent\"><img src=\"https://colab.research.google.com/assets/colab-badge.svg\" alt=\"Open In Colab\"/></a>"
      ]
    },
    {
      "cell_type": "code",
      "source": [
        "# example of timing the training of a random forest model on one core\n",
        "from time import time\n",
        "from sklearn.datasets import make_classification\n",
        "from sklearn.ensemble import RandomForestClassifier\n",
        "# define dataset\n",
        "X, y = make_classification(n_samples=10000, n_features=20, n_informative=15, n_redundant=5, random_state=3)\n",
        "# define the model\n",
        "model = RandomForestClassifier(n_estimators=500, n_jobs=1)\n",
        "# record current time\n",
        "start = time()\n",
        "# fit the model\n",
        "model.fit(X, y)\n",
        "# record current time\n",
        "end = time()\n",
        "# report execution time\n",
        "result = end - start\n",
        "print('%.3f seconds' % result)"
      ],
      "metadata": {
        "colab": {
          "base_uri": "https://localhost:8080/"
        },
        "id": "UDaZyIBjYLz8",
        "outputId": "f9883622-0bdc-494a-ccd6-3fa9a662bc3f"
      },
      "execution_count": null,
      "outputs": [
        {
          "output_type": "stream",
          "name": "stdout",
          "text": [
            "20.696 seconds\n"
          ]
        }
      ]
    },
    {
      "cell_type": "code",
      "source": [
        "# example of timing the training of a random forest model on 4 cores\n",
        "from time import time\n",
        "from sklearn.datasets import make_classification\n",
        "from sklearn.ensemble import RandomForestClassifier\n",
        "# define dataset\n",
        "X, y = make_classification(n_samples=10000, n_features=20, n_informative=15, n_redundant=5, random_state=3)\n",
        "# define the model\n",
        "model = RandomForestClassifier(n_estimators=500, n_jobs=4)\n",
        "# record current time\n",
        "start = time()\n",
        "# fit the model\n",
        "model.fit(X, y)\n",
        "# record current time\n",
        "end = time()\n",
        "# report execution time\n",
        "result = end - start\n",
        "print('%.3f seconds' % result)"
      ],
      "metadata": {
        "colab": {
          "base_uri": "https://localhost:8080/"
        },
        "id": "HKKRR7dBZqY0",
        "outputId": "24782104-12f2-43dd-9756-7b3ef5573663"
      },
      "execution_count": null,
      "outputs": [
        {
          "output_type": "stream",
          "name": "stdout",
          "text": [
            "16.983 seconds\n"
          ]
        }
      ]
    },
    {
      "cell_type": "code",
      "source": [
        "# example of timing the training of a random forest model on 8 cores\n",
        "from time import time\n",
        "from sklearn.datasets import make_classification\n",
        "from sklearn.ensemble import RandomForestClassifier\n",
        "# define dataset\n",
        "X, y = make_classification(n_samples=10000, n_features=20, n_informative=15, n_redundant=5, random_state=3)\n",
        "# define the model\n",
        "model = RandomForestClassifier(n_estimators=500, n_jobs=8)\n",
        "# record current time\n",
        "start = time()\n",
        "# fit the model\n",
        "model.fit(X, y)\n",
        "# record current time\n",
        "end = time()\n",
        "# report execution time\n",
        "result = end - start\n",
        "print('%.3f seconds' % result)"
      ],
      "metadata": {
        "colab": {
          "base_uri": "https://localhost:8080/"
        },
        "id": "Fbe4R19dZtgB",
        "outputId": "11d0b75e-b6f6-4ebb-c418-f2dcbd50a34a"
      },
      "execution_count": null,
      "outputs": [
        {
          "output_type": "stream",
          "name": "stdout",
          "text": [
            "15.028 seconds\n"
          ]
        }
      ]
    }
  ]
}