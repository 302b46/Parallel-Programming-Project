{
  "nbformat": 4,
  "nbformat_minor": 0,
  "metadata": {
    "colab": {
      "name": "Parallel Project.ipynb",
      "provenance": [],
      "collapsed_sections": [],
      "authorship_tag": "ABX9TyNkOGXq19AY1zzdIzJkKEnw",
      "include_colab_link": true
    },
    "kernelspec": {
      "name": "python3",
      "display_name": "Python 3"
    },
    "language_info": {
      "name": "python"
    }
  },
  "cells": [
    {
      "cell_type": "markdown",
      "metadata": {
        "id": "view-in-github",
        "colab_type": "text"
      },
      "source": [
        "<a href=\"https://colab.research.google.com/github/302b46/Parallel-Programming-Project/blob/main/Parallel_Project.ipynb\" target=\"_parent\"><img src=\"https://colab.research.google.com/assets/colab-badge.svg\" alt=\"Open In Colab\"/></a>"
      ]
    },
    {
      "cell_type": "code",
      "source": [
        "# example of timing the training of a random forest model\n",
        "from time import time\n",
        "from sklearn.datasets import make_classification\n",
        "from sklearn.ensemble import RandomForestClassifier\n",
        "from matplotlib import pyplot\n",
        "# define dataset\n",
        "X, y = make_classification(n_samples=10000, n_features=20, n_informative=15, n_redundant=5, random_state=3)\n"
      ],
      "metadata": {
        "id": "UDaZyIBjYLz8"
      },
      "execution_count": 47,
      "outputs": []
    },
    {
      "cell_type": "code",
      "source": [
        "\n",
        "results = list()\n",
        "# compare timing for number of cores\n",
        "n_cores = [1, 4, 8]\n",
        "for n in n_cores:\n",
        "\t# capture current time\n",
        "\tstart = time()\n",
        "\t# define the model\n",
        "\tmodel = RandomForestClassifier(n_estimators=500, n_jobs=n)\n",
        "\t# fit the model\n",
        "\tmodel.fit(X, y)\n",
        "\t# capture current time\n",
        "\tend = time()\n",
        "\t# store execution time\n",
        "\tresult = end - start\n",
        "\tprint('>cores=%d: %.3f seconds' % (n, result))\n",
        "\tresults.append(result)\n",
        "pyplot.plot(n_cores, results)\n",
        "pyplot.show()"
      ],
      "metadata": {
        "colab": {
          "base_uri": "https://localhost:8080/",
          "height": 317
        },
        "id": "sLRnEZMi2Nig",
        "outputId": "35624d64-2ece-4e6e-ed90-a091490efd50"
      },
      "execution_count": 46,
      "outputs": [
        {
          "output_type": "stream",
          "name": "stdout",
          "text": [
            ">cores=1: 20.396 seconds\n",
            ">cores=4: 15.919 seconds\n",
            ">cores=8: 14.704 seconds\n"
          ]
        },
        {
          "output_type": "display_data",
          "data": {
            "text/plain": [
              "<Figure size 432x288 with 1 Axes>"
            ],
            "image/png": "[encoded data removed]"
          },
          "metadata": {
            "needs_background": "light"
          }
        }
      ]
    }
  ]
}