{
  "nbformat": 4,
  "nbformat_minor": 0,
  "metadata": {
    "colab": {
      "name": "Mirrored_strategy_gpu.ipynb",
      "provenance": [],
      "collapsed_sections": [],
      "authorship_tag": "ABX9TyPaItM8Wp3Hamh5jsBO0/Mb",
      "include_colab_link": true
    },
    "kernelspec": {
      "name": "python3",
      "display_name": "Python 3"
    },
    "language_info": {
      "name": "python"
    },
    "accelerator": "GPU"
  },
  "cells": [
    {
      "cell_type": "markdown",
      "metadata": {
        "id": "view-in-github",
        "colab_type": "text"
      },
      "source": [
        "<a href=\"https://colab.research.google.com/github/302b46/Parallel-Programming-Project/blob/main/Mirrored_strategy_gpu.ipynb\" target=\"_parent\"><img src=\"https://colab.research.google.com/assets/colab-badge.svg\" alt=\"Open In Colab\"/></a>"
      ]
    },
    {
      "cell_type": "code",
      "execution_count": 1,
      "metadata": {
        "id": "S67qlh6ZiOci"
      },
      "outputs": [],
      "source": [
        "import tensorflow as tf\n",
        "from tensorflow import keras"
      ]
    },
    {
      "cell_type": "code",
      "source": [
        "def get_compiled_model():\n",
        "    # Make a simple 2-layer densely-connected neural network.\n",
        "    inputs = keras.Input(shape=(784,))\n",
        "    x = keras.layers.Dense(256, activation=\"relu\")(inputs)\n",
        "    x = keras.layers.Dense(256, activation=\"relu\")(x)\n",
        "    outputs = keras.layers.Dense(10)(x)\n",
        "    model = keras.Model(inputs, outputs)\n",
        "    model.compile(\n",
        "        optimizer=keras.optimizers.Adam(),\n",
        "        loss=keras.losses.SparseCategoricalCrossentropy(from_logits=True),\n",
        "        metrics=[keras.metrics.SparseCategoricalAccuracy()],\n",
        "    )\n",
        "    return model"
      ],
      "metadata": {
        "id": "BqJrhzGtluk6"
      },
      "execution_count": 2,
      "outputs": []
    },
    {
      "cell_type": "code",
      "source": [
        "def get_dataset():\n",
        "    batch_size = 32\n",
        "    num_val_samples = 10000\n",
        "    (x_train, y_train), (x_test, y_test) = keras.datasets.mnist.load_data()\n",
        "\n",
        "    # Preprocess the data (these are Numpy arrays)\n",
        "    x_train = x_train.reshape(-1, 784).astype(\"float32\") / 255\n",
        "    x_test = x_test.reshape(-1, 784).astype(\"float32\") / 255\n",
        "    y_train = y_train.astype(\"float32\")\n",
        "    y_test = y_test.astype(\"float32\")\n",
        "\n",
        "    # Reserve num_val_samples samples for validation\n",
        "    x_val = x_train[-num_val_samples:]\n",
        "    y_val = y_train[-num_val_samples:]\n",
        "    x_train = x_train[:-num_val_samples]\n",
        "    y_train = y_train[:-num_val_samples]\n",
        "    return (\n",
        "        tf.data.Dataset.from_tensor_slices((x_train, y_train)).batch(batch_size),\n",
        "        tf.data.Dataset.from_tensor_slices((x_val, y_val)).batch(batch_size),\n",
        "        tf.data.Dataset.from_tensor_slices((x_test, y_test)).batch(batch_size),\n",
        "    )"
      ],
      "metadata": {
        "id": "_-sjMYyQmkpX"
      },
      "execution_count": 3,
      "outputs": []
    },
    {
      "cell_type": "code",
      "source": [
        "# Create a MirroredStrategy.\n",
        "strategy = tf.distribute.MirroredStrategy()\n",
        "devices = tf.config.experimental.list_physical_devices(\"GPU\")\n",
        "\n",
        "#print(\"Number of devices: {}\".format(strategy.num_replicas_in_sync))\n",
        "#print(\"Number of devices: {}\")\n",
        "#print(devices)\n",
        "\n",
        "# Open a strategy scope.\n",
        "with strategy.scope():\n",
        "    # Everything that creates variables should be under the strategy scope.\n",
        "    # In general this is only model construction & `compile()`.\n",
        "    model = get_compiled_model()\n",
        "\n",
        "# Train the model on all available devices.\n",
        "train_dataset, val_dataset, test_dataset = get_dataset()\n",
        "model.fit(train_dataset, epochs=5, validation_data=val_dataset)\n",
        "\n",
        "# Test the model on all available devices.\n",
        "model.evaluate(test_dataset)"
      ],
      "metadata": {
        "colab": {
          "base_uri": "https://localhost:8080/"
        },
        "id": "jm5FDfHemm7s",
        "outputId": "91f1a005-27c4-4253-b0c9-f592e519543b"
      },
      "execution_count": 4,
      "outputs": [
        {
          "output_type": "stream",
          "name": "stdout",
          "text": [
            "INFO:tensorflow:Using MirroredStrategy with devices ('/job:localhost/replica:0/task:0/device:GPU:0',)\n",
            "INFO:tensorflow:Reduce to /job:localhost/replica:0/task:0/device:CPU:0 then broadcast to ('/job:localhost/replica:0/task:0/device:CPU:0',).\n",
            "INFO:tensorflow:Reduce to /job:localhost/replica:0/task:0/device:CPU:0 then broadcast to ('/job:localhost/replica:0/task:0/device:CPU:0',).\n",
            "INFO:tensorflow:Reduce to /job:localhost/replica:0/task:0/device:CPU:0 then broadcast to ('/job:localhost/replica:0/task:0/device:CPU:0',).\n",
            "INFO:tensorflow:Reduce to /job:localhost/replica:0/task:0/device:CPU:0 then broadcast to ('/job:localhost/replica:0/task:0/device:CPU:0',).\n",
            "INFO:tensorflow:Reduce to /job:localhost/replica:0/task:0/device:CPU:0 then broadcast to ('/job:localhost/replica:0/task:0/device:CPU:0',).\n",
            "INFO:tensorflow:Reduce to /job:localhost/replica:0/task:0/device:CPU:0 then broadcast to ('/job:localhost/replica:0/task:0/device:CPU:0',).\n",
            "INFO:tensorflow:Reduce to /job:localhost/replica:0/task:0/device:CPU:0 then broadcast to ('/job:localhost/replica:0/task:0/device:CPU:0',).\n",
            "INFO:tensorflow:Reduce to /job:localhost/replica:0/task:0/device:CPU:0 then broadcast to ('/job:localhost/replica:0/task:0/device:CPU:0',).\n",
            "Downloading data from https://storage.googleapis.com/tensorflow/tf-keras-datasets/mnist.npz\n",
            "11493376/11490434 [==============================] - 0s 0us/step\n",
            "11501568/11490434 [==============================] - 0s 0us/step\n",
            "Epoch 1/5\n",
            "INFO:tensorflow:Reduce to /job:localhost/replica:0/task:0/device:CPU:0 then broadcast to ('/job:localhost/replica:0/task:0/device:CPU:0',).\n",
            "INFO:tensorflow:Reduce to /job:localhost/replica:0/task:0/device:CPU:0 then broadcast to ('/job:localhost/replica:0/task:0/device:CPU:0',).\n",
            "1563/1563 [==============================] - 15s 6ms/step - loss: 0.2278 - sparse_categorical_accuracy: 0.9320 - val_loss: 0.1168 - val_sparse_categorical_accuracy: 0.9661\n",
            "Epoch 2/5\n",
            "1563/1563 [==============================] - 6s 4ms/step - loss: 0.0941 - sparse_categorical_accuracy: 0.9709 - val_loss: 0.0851 - val_sparse_categorical_accuracy: 0.9747\n",
            "Epoch 3/5\n",
            "1563/1563 [==============================] - 6s 4ms/step - loss: 0.0590 - sparse_categorical_accuracy: 0.9814 - val_loss: 0.0869 - val_sparse_categorical_accuracy: 0.9763\n",
            "Epoch 4/5\n",
            "1563/1563 [==============================] - 6s 4ms/step - loss: 0.0431 - sparse_categorical_accuracy: 0.9862 - val_loss: 0.0825 - val_sparse_categorical_accuracy: 0.9769\n",
            "Epoch 5/5\n",
            "1563/1563 [==============================] - 6s 4ms/step - loss: 0.0356 - sparse_categorical_accuracy: 0.9881 - val_loss: 0.1089 - val_sparse_categorical_accuracy: 0.9737\n",
            "313/313 [==============================] - 1s 4ms/step - loss: 0.0948 - sparse_categorical_accuracy: 0.9750\n"
          ]
        },
        {
          "output_type": "execute_result",
          "data": {
            "text/plain": [
              "[0.0948113352060318, 0.9750000238418579]"
            ]
          },
          "metadata": {},
          "execution_count": 4
        }
      ]
    }
  ]
}